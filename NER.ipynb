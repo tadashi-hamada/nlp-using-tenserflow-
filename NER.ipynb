{
  "nbformat": 4,
  "nbformat_minor": 0,
  "metadata": {
    "colab": {
      "name": "NER.ipynb",
      "provenance": [],
      "collapsed_sections": [],
      "authorship_tag": "ABX9TyNs4EpgTYNJueL2B2+99M14",
      "include_colab_link": true
    },
    "kernelspec": {
      "name": "python3",
      "display_name": "Python 3"
    }
  },
  "cells": [
    {
      "cell_type": "markdown",
      "metadata": {
        "id": "view-in-github",
        "colab_type": "text"
      },
      "source": [
        "<a href=\"https://colab.research.google.com/github/tadashi-hamada/nlp-using-tenserflow-/blob/main/NER.ipynb\" target=\"_parent\"><img src=\"https://colab.research.google.com/assets/colab-badge.svg\" alt=\"Open In Colab\"/></a>"
      ]
    },
    {
      "cell_type": "code",
      "metadata": {
        "id": "S3VqaOsfYci5"
      },
      "source": [
        "import json\r\n",
        "tweets = []\r\n",
        "for line in open('final.json', 'r'):\r\n",
        "    tweets.append(line)"
      ],
      "execution_count": 2,
      "outputs": []
    },
    {
      "cell_type": "code",
      "metadata": {
        "id": "SDEocqdkasZN"
      },
      "source": [
        "#tweets"
      ],
      "execution_count": 3,
      "outputs": []
    },
    {
      "cell_type": "code",
      "metadata": {
        "colab": {
          "base_uri": "https://localhost:8080/"
        },
        "id": "m1hIDCo0b1M3",
        "outputId": "d27e55dd-82a7-447a-9ce1-2c5d27174f90"
      },
      "source": [
        "document=[]\r\n",
        "for line in tweets:\r\n",
        "    i=(line.index(\"document\\\": \"))\r\n",
        "    j=line.index(\" \\\"annotation\\\"\")\r\n",
        "    print(line[i+12:j-2])\r\n",
        "    document.append(line[i+12:j-2])\r\n"
      ],
      "execution_count": 4,
      "outputs": [
        {
          "output_type": "stream",
          "text": [
            "The house plan has two bedrooms, two washrooms, two balconys, one livingroom, and one kitchen. To be specific, floor of bedroom1 is Quartz and White, and wall is Wall_Cloth and Yellow. bedroom1 is in southwest with 17 square meters. In addition, bedroom2 wall is White Bamboo_Vine as well as uses Wood_color Ceramics for floor. bedroom2 has 12 squares in north. washroom1 has Blue Wall_Cloth wall, and has Wood_color Jade floor. washroom1 has 5 squares in west. Besides, washroom2 has 3 squares in west. floor of washroom2 is Bamboo_Vine and Gray while wall is Blue Wood_Veneer. In addition, balcony1 is in south with 5 square meters. balcony1 floor is Earth_color Pure_Color_Wood as well as wall is Pure_Color_Wood and White. balcony2 wall is Orange Stone_Brick, and floor is Log and White. balcony2 covers 3 square meters located in north. Besides, wall of livingroom1 is Marble and Pink while floor is Orange Wood_Veneer. livingroom1 has 36 squares in center. kitchen1 has Gray Granite wall as well as floor is White Wall_Cloth. kitchen1 has 7 squares in northeast. bedroom1, bedroom2, kitchen1, balcony1, washroom1, washroom2, balcony2 and livingroom1 are connected. bedroom1 is adjacent to balcony1, washroom1. bedroom2 is next to washroom2, balcony2. kitchen1 is adjacent to balcony2. washroom2 and washroom1 are connected. \n",
            "House has one washroom, one livingroom, one study, two bedrooms, one kitchen, and one balcony. In practice, washroom1 has 5 squares in east. washroom1 wall is Green Pure_Color_Wood as well as floor is Pink Mosaic. livingroom1 uses Orange Jade for floor while has Blue Wallpaper wall. livingroom1 is in center with 31 square meters. Additionally, study1 has 9 squares in northwest. study1 floor is Yellow Rock_Plate as well as wall is Gray Stone_Brick. bedroom1 is in southeast with 13 square meters. bedroom1 uses Yellow Wall_Cloth for floor while has Blue Wood_Grain wall. bedroom2 has Yellow Ceramic_Tile floor, and wall is Wood_color Wood_Grain. bedroom2 covers 11 square meters located in west. Besides, kitchen1 covers 6 square meters located in northeast. kitchen1 has Black Quartz floor while wall is Coating and Earth_color. balcony1 uses Yellow Ceramic_Tile for floor, and wall is Cement_Board and Blue. balcony1 has 7 squares in south. bedroom1, bedroom2, study1, balcony1, kitchen1, washroom1 and livingroom1 are connected. bedroom1 is next to balcony1, washroom1. bedroom2 is adjacent to study1. kitchen1 is next to washroom1. \n",
            "House has three bedrooms, one washroom, one balcony, one livingroom, and one kitchen. Specifically, bedroom1 is in northwest with 15 square meters. bedroom1 has Blue Granite wall as well as uses Gray Ceramic_Tile for floor. Additionally, bedroom2 wall is Yellow Coating while uses Blue Log for floor. bedroom2 is in northeast with 11 square meters. Besides, bedroom3 covers 9 square meters located in southeast. bedroom3 uses Orange Bamboo_Vine for floor as well as has Black Rock_Plate wall. washroom1 covers 4 square meters located in north. floor of washroom1 is Bamboo_Vine and Earth_color while wall is Orange Wood_Grain. balcony1 uses Green Log for floor as well as wall is Wallpaper and Wood_color. balcony1 covers 7 square meters located in west. livingroom1 wall is Gray Pure_Color_Wood, and has Wood_color Painted_Wood floor. livingroom1 has 37 squares in center. Additionally, wall of kitchen1 is Wood_Grain and Black as well as floor is Yellow Log. kitchen1 is in southeast with 7 square meters. livingroom1 is adjacent to bedroom1, bedroom2, bedroom3, kitchen1, balcony1, washroom1. bedroom1 is next to balcony1, washroom1. bedroom2 is adjacent to washroom1. kitchen1 and bedroom3 are connected. \n",
            "Building layout contains two bedrooms, one washroom, one balcony, one livingroom, and one kitchen. In practice, bedroom1 uses Purple Rock_Plate for floor, and wall is Green Quartz. bedroom1 has 15 squares in southeast. Moreover, bedroom2 covers 13 square meters located in west. floor of bedroom2 is Wall_Cloth and Green as well as wall is Wood_Grain and Black. washroom1 has 4 squares in south. washroom1 has White Ceramics wall, and floor is Orange Stone_Brick. balcony1 is in northwest with 4 square meters. floor of balcony1 is Coating and Purple as well as wall is Quartz and Red. In addition, livingroom1 wall is Orange Quartz while has Black Painted_Wood floor. livingroom1 covers 31 square meters located in center. kitchen1 covers 6 square meters located in north. kitchen1 has Black Wall_Cloth wall as well as floor is Wood_Veneer and Red. livingroom1 is adjacent to bedroom1, bedroom2, kitchen1, washroom1, balcony1. washroom1 and bedroom1 are connected. bedroom2 is adjacent to washroom1. \n",
            "Building layout contains three bedrooms, two washrooms, two balconys, one livingroom, and one kitchen. Specifically, bedroom1 floor is Green Granite as well as wall is Pure_Color_Wood and Yellow. bedroom1 has 13 squares in northwest. bedroom2 has 11 squares in northeast. bedroom2 wall is Red Jade, and has Black Jade floor. Moreover, bedroom3 covers 10 square meters located in southwest. bedroom3 uses Blue Rock_Plate for floor as well as wall is Purple Ceramics. Besides, washroom1 is in north with 3 square meters. washroom1 uses Black Mosaic for floor, and wall is Wood_Grain and White. washroom2 has Yellow Ceramics floor as well as wall is Ceramics and Red. washroom2 has 3 squares in north. Additionally, balcony1 is in west with 7 square meters. balcony1 uses Green Cement_Board for floor while has Red Painted_Wood wall. balcony2 is in east with 4 square meters. balcony2 wall is Red Marble, and floor is Wall_Cloth and Green. livingroom1 has 42 squares in center. livingroom1 has Red Painted_Wood floor as well as wall is Orange Stone_Brick. kitchen1 is in southeast with 5 square meters. kitchen1 wall is Blue Wallpaper while floor is Earth_color Bamboo_Vine. bedroom1, bedroom2, bedroom3, balcony1, kitchen1, balcony2, washroom2 and livingroom1 are connected. bedroom1 is next to washroom1. washroom2 and bedroom2 are connected. bedroom3 is next to balcony1. washroom2 and washroom1 are connected. \n",
            "Building layout contains two bedrooms, two washrooms, one balcony, one livingroom, and one kitchen. To be specific, bedroom1 has 14 squares in east. bedroom1 uses Earth_color Marble for floor as well as wall is Green Painted_Wood. In addition, bedroom2 wall is Wood_color Ceramics, and floor is Pink Wood_Grain. bedroom2 covers 8 square meters located in north. washroom1 covers 3 square meters located in southeast. washroom1 floor is Red Mosaic as well as wall is Stone_Brick and Earth_color. Besides, washroom2 covers 2 square meters located in southeast. wall of washroom2 is Wall_Cloth and Green while floor is Ceramics and Black. In addition, balcony1 is in northeast with 5 square meters. balcony1 has Purple Pure_Color_Wood wall as well as floor is Rock_Plate and Earth_color. Additionally, livingroom1 covers 20 square meters located in southwest. floor of livingroom1 is Ceramic_Tile and Yellow, and wall is Orange Jade. kitchen1 wall is White Pure_Color_Wood as well as floor is Yellow Marble. kitchen1 is in northwest with 11 square meters. livingroom1 is adjacent to bedroom1, kitchen1, washroom2. bedroom1 is next to bedroom2, balcony1, washroom1, washroom2. bedroom2 and kitchen1 are connected. bedroom2 is next to balcony1. washroom2 and washroom1 are connected. \n",
            "House has three bedrooms, one washroom, two balconys, one livingroom, and one kitchen. In practice, bedroom1 has Gray Painted_Wood wall as well as floor is Pink Bamboo_Vine. bedroom1 is in south with 13 square meters. bedroom2 has Purple Granite floor while has Purple Pure_Color_Wood wall. bedroom2 has 9 squares in north. Additionally, bedroom3 has 5 squares in west. bedroom3 has Purple Wall_Cloth wall as well as has Wood_color Ceramic_Tile floor. washroom1 floor is Pink Wood_Veneer while has Red Marble wall. washroom1 has 4 squares in west. wall of balcony1 is Marble and Black, and has Blue Pure_Color_Wood floor. balcony1 is in south with 6 square meters. balcony2 has 2 squares in north. balcony2 wall is Wood_color Rock_Plate while floor is Painted_Wood and Gray. Moreover, floor of livingroom1 is Granite and Black as well as wall is Green Granite. livingroom1 has 29 squares in center. kitchen1 has 5 squares in north. kitchen1 has Wood_color Log wall while has Purple Ceramic_Tile floor. livingroom1 is adjacent to bedroom1, bedroom2, balcony1, bedroom3, kitchen1, washroom1. balcony1, bedroom3 and bedroom1 are connected. bedroom2 is adjacent to kitchen1, washroom1, balcony2. bedroom3 is next to washroom1. balcony2 and kitchen1 are connected. \n",
            "The house plan has two washrooms, one livingroom, one closet, three bedrooms, one kitchen, and one balcony. Specifically, washroom1 covers 5 square meters located in center. floor of washroom1 is Ceramic_Tile and Earth_color, and has Gray Mosaic wall. washroom2 has 4 squares in north. wall of washroom2 is Wood_Veneer and Orange as well as has Yellow Ceramic_Tile floor. livingroom1 uses Green Quartz for floor, and wall is Ceramics and Red. livingroom1 has 45 squares in east. Additionally, closet1 has Green Wallpaper wall while floor is Wood_color Coating. closet1 covers 8 square meters located in north. Moreover, bedroom1 is in west with 19 square meters. bedroom1 has Gray Mosaic wall as well as floor is Orange Cement_Board. Additionally, bedroom2 has 15 squares in center. wall of bedroom2 is Wallpaper and White, and floor is Red Marble. In addition, bedroom3 has 10 squares in west. bedroom3 floor is Yellow Rock_Plate as well as has Yellow Ceramics wall. Moreover, kitchen1 covers 8 square meters located in northeast. kitchen1 has Gray Jade wall, and uses Yellow Wood_Grain for floor. balcony1 is in west with 5 square meters. balcony1 floor is Yellow Granite as well as wall is White Wallpaper. bedroom1, bedroom2, bedroom3, closet1, kitchen1, washroom1 and livingroom1 are connected. bedroom1 is next to bedroom3, washroom2. washroom1 and bedroom2 are connected. bedroom3 is adjacent to balcony1, washroom1. closet1 is next to washroom2. \n",
            "The building contains two washrooms, two livingrooms, one storage, three bedrooms, one kitchen, and one balcony. More specifically, washroom1 wall is White Quartz, and uses Green Coating for floor. washroom1 has 5 squares in west. In addition, washroom2 is in west with 4 square meters. washroom2 floor is Purple Marble as well as wall is Coating and Green. Additionally, livingroom1 has 39 squares in center. livingroom1 wall is Pink Coating while has Red Log floor. livingroom2 has Black Mosaic floor, and has Orange Wall_Cloth wall. livingroom2 is in west with 3 square meters. Moreover, storage1 covers 4 square meters located in northeast. storage1 has Gray Ceramics wall as well as has Yellow Ceramic_Tile floor. bedroom1 covers 18 square meters located in southwest. bedroom1 has Gray Cement_Board wall, and uses Blue Wood_Grain for floor. bedroom2 has Black Bamboo_Vine wall while floor is Jade and White. bedroom2 is in southeast with 11 square meters. bedroom3 is in northwest with 10 square meters. floor of bedroom3 is Marble and Blue as well as has Green Ceramics wall. kitchen1 is in north with 7 square meters. floor of kitchen1 is Bamboo_Vine and Red, and wall is Earth_color Wall_Cloth. In addition, balcony1 is in south with 6 square meters. balcony1 uses Green Quartz for floor as well as wall is Wood_Veneer and Green. livingroom1 is adjacent to bedroom1, bedroom2, bedroom3, kitchen1, balcony1, storage1, livingroom2. balcony1, washroom1, livingroom2 and bedroom1 are connected. bedroom3 is adjacent to kitchen1, washroom2, livingroom2. storage1 and kitchen1 are connected. washroom1 is adjacent to washroom2, livingroom2. washroom2 is next to livingroom2. \n",
            "Building layout contains two bedrooms, one washroom, one balcony, one livingroom, and one kitchen. More specifically, bedroom1 has 15 squares in west. bedroom1 has White Bamboo_Vine wall as well as uses Yellow Marble for floor. bedroom2 floor is Blue Cement_Board while wall is Blue Granite. bedroom2 is in east with 12 square meters. washroom1 has 5 squares in center. wall of washroom1 is Stone_Brick and Pink as well as floor is Coating and Yellow. Moreover, balcony1 is in north with 6 square meters. balcony1 wall is Earth_color Coating while has Earth_color Rock_Plate floor. Additionally, livingroom1 floor is Yellow Ceramic_Tile as well as wall is Pink Cement_Board. livingroom1 is in center with 33 square meters. Besides, kitchen1 wall is White Stone_Brick while floor is Yellow Granite. kitchen1 is in southeast with 6 square meters. bedroom1, bedroom2, kitchen1, balcony1, washroom1 and livingroom1 are connected. bedroom1 is next to washroom1. \n",
            "Building layout contains one washroom, three bedrooms, one livingroom, and one kitchen. To be specific, washroom1 wall is Blue Wood_Grain, and uses Red Wood_Grain for floor. washroom1 covers 4 square meters located in east. Moreover, bedroom1 uses Black Painted_Wood for floor while wall is Wood_color Stone_Brick. bedroom1 has 15 squares in northeast. In addition, bedroom2 wall is Blue Wood_Grain as well as uses Earth_color Cement_Board for floor. bedroom2 has 10 squares in northwest. bedroom3 covers 11 square meters located in southeast. bedroom3 has Blue Wood_Grain wall, and has Orange Quartz floor. livingroom1 has 47 squares in center. livingroom1 has Orange Wood_Grain wall while floor is Black Wall_Cloth. kitchen1 uses Pink Wallpaper for floor, and wall is Jade and Wood_color. kitchen1 is in south with 7 square meters. bedroom1, bedroom2, bedroom3, kitchen1, washroom1 and livingroom1 are connected. bedroom1 is next to washroom1. kitchen1, washroom1 and bedroom3 are connected. \n",
            "House has two washrooms, one livingroom, one closet, one bedroom, one kitchen, and two balconys. In practice, wall of washroom1 is Mosaic and Gray, and uses Black Jade for floor. washroom1 covers 4 square meters located in southeast. Additionally, washroom2 covers 2 square meters located in south. floor of washroom2 is Wood_Grain and Green while wall is Wood_Veneer and Red. In addition, floor of livingroom1 is Granite and Blue as well as wall is Black Ceramic_Tile. livingroom1 is in center with 36 square meters. closet1 floor is White Cement_Board while wall is Stone_Brick and Green. closet1 covers 6 square meters located in center. Besides, wall of bedroom1 is Pure_Color_Wood and White, and floor is Ceramics and Green. bedroom1 has 11 squares in east. Additionally, kitchen1 uses Purple Marble for floor as well as wall is Rock_Plate and Gray. kitchen1 has 13 squares in east. wall of balcony1 is Ceramic_Tile and Gray while has Black Wood_Veneer floor. balcony1 has 10 squares in west. Moreover, balcony2 has Earth_color Ceramic_Tile floor, and wall is Ceramics and Earth_color. balcony2 has 2 squares in southeast. livingroom1 is adjacent to kitchen1, balcony1, closet1, washroom2. kitchen1 is next to bedroom1, closet1, washroom1, balcony2, washroom2. closet1 and bedroom1 are connected. washroom1 is adjacent to balcony2, washroom2. \n",
            "The house plan has one washroom, two bedrooms, one livingroom, and one balcony. Specifically, washroom1 is in west with 4 square meters. wall of washroom1 is Wood_Grain and Blue as well as has Pink Wood_Grain floor. Moreover, bedroom1 has Yellow Rock_Plate floor while wall is Marble and Purple. bedroom1 covers 18 square meters located in east. bedroom2 has 8 squares in center. bedroom2 wall is Green Pure_Color_Wood, and floor is Earth_color Quartz. In addition, livingroom1 uses Earth_color Wall_Cloth for floor while has White Stone_Brick wall. livingroom1 covers 24 square meters located in west. Moreover, balcony1 has 4 squares in center. balcony1 uses Purple Wood_Grain for floor as well as wall is Ceramic_Tile and Green. livingroom1 is adjacent to bedroom1, bedroom2, washroom1, balcony1. bedroom1 is next to bedroom2. \n",
            "The house plan has one washroom, one livingroom, one closet, and three bedrooms. Specifically, washroom1 has 4 squares in south. washroom1 floor is Pink Wallpaper as well as wall is Blue Bamboo_Vine. livingroom1 covers 37 square meters located in center. wall of livingroom1 is Pure_Color_Wood and Yellow, and has Gray Cement_Board floor. Moreover, closet1 covers 3 square meters located in east. wall of closet1 is Ceramic_Tile and Earth_color while uses Purple Ceramics for floor. bedroom1 has Yellow Jade wall, and has Gray Wood_Grain floor. bedroom1 is in northwest with 13 square meters. Besides, bedroom2 has 12 squares in east. bedroom2 uses Green Painted_Wood for floor while has Purple Ceramic_Tile wall. Additionally, floor of bedroom3 is Marble and Pink as well as has Pink Marble wall. bedroom3 is in southeast with 10 square meters. livingroom1 is adjacent to bedroom1, bedroom2, bedroom3, washroom1. bedroom2 is next to bedroom3, closet1. bedroom3 is adjacent to washroom1, closet1. \n",
            "The building contains two bedrooms, one washroom, one balcony, one livingroom, and one kitchen. Specifically, bedroom1 has 13 squares in west. wall of bedroom1 is Painted_Wood and Green as well as floor is Black Jade. floor of bedroom2 is Granite and Red while wall is Earth_color Ceramic_Tile. bedroom2 covers 8 square meters located in center. floor of washroom1 is Marble and Earth_color, and wall is Mosaic and Black. washroom1 is in west with 4 square meters. balcony1 uses Green Bamboo_Vine for floor as well as wall is Pure_Color_Wood and Orange. balcony1 is in north with 4 square meters. livingroom1 is in southeast with 21 square meters. livingroom1 has Black Wall_Cloth wall, and has Purple Painted_Wood floor. floor of kitchen1 is Painted_Wood and Gray while wall is Ceramic_Tile and Pink. kitchen1 has 6 squares in southwest. bedroom1, bedroom2, kitchen1, washroom1 and livingroom1 are connected. bedroom1 is next to bedroom2, washroom1, balcony1. balcony1 and bedroom2 are connected. kitchen1 is next to washroom1. \n",
            "Building layout contains two washrooms, one livingroom, one closet, three bedrooms, one kitchen, and two balconys. Specifically, washroom1 covers 4 square meters located in west. wall of washroom1 is Bamboo_Vine and Orange as well as floor is White Ceramics. washroom2 is in north with 3 square meters. washroom2 has Black Wallpaper wall while floor is Green Ceramic_Tile. Additionally, livingroom1 covers 32 square meters located in east. floor of livingroom1 is Stone_Brick and Red, and wall is Ceramic_Tile and Wood_color. closet1 floor is White Quartz while wall is Green Coating. closet1 has 8 squares in northeast. Moreover, bedroom1 is in southwest with 14 square meters. wall of bedroom1 is Mosaic and Pink, and has Earth_color Coating floor. Additionally, bedroom2 covers 8 square meters located in south. bedroom2 has Earth_color Coating floor as well as wall is Blue Pure_Color_Wood. bedroom3 uses Yellow Stone_Brick for floor, and wall is Blue Coating. bedroom3 has 7 squares in northwest. Besides, kitchen1 covers 6 square meters located in center. kitchen1 uses Gray Rock_Plate for floor as well as wall is White Marble. Additionally, balcony1 has Earth_color Bamboo_Vine floor while has Green Pure_Color_Wood wall. balcony1 covers 5 square meters located in southeast. balcony2 has Yellow Painted_Wood wall as well as uses Red Wall_Cloth for floor. balcony2 covers 4 square meters located in north. livingroom1 is adjacent to bedroom1, bedroom2, closet1, bedroom3, kitchen1, balcony1, washroom1, washroom2. bedroom1 is next to bedroom2, washroom1. closet1 is adjacent to kitchen1, balcony2. washroom2 and bedroom3 are connected. kitchen1 is next to balcony2, washroom2. washroom2 and balcony2 are connected. \n",
            "House has two bedrooms, one washroom, one balcony, one livingroom, and one kitchen. Specifically, floor of bedroom1 is Bamboo_Vine and Gray, and has Wood_color Wall_Cloth wall. bedroom1 is in center with 12 square meters. bedroom2 wall is Orange Jade as well as has Black Pure_Color_Wood floor. bedroom2 covers 10 square meters located in northwest. In addition, washroom1 wall is Wood_color Painted_Wood, and uses Pink Coating for floor. washroom1 is in north with 4 square meters. wall of balcony1 is Ceramics and Purple while has Wood_color Ceramic_Tile floor. balcony1 covers 6 square meters located in southeast. Moreover, livingroom1 wall is Purple Rock_Plate, and floor is Rock_Plate and Green. livingroom1 has 31 squares in east. Besides, kitchen1 wall is Purple Mosaic as well as floor is Wood_Veneer and Purple. kitchen1 has 6 squares in center. livingroom1 is adjacent to bedroom1, bedroom2, balcony1, kitchen1, washroom1. bedroom1 is next to kitchen1. bedroom2 is adjacent to kitchen1, washroom1. \n",
            "The house plan has two washrooms, one livingroom, one study, two bedrooms, one kitchen, and one balcony. In practice, washroom1 wall is Purple Wall_Cloth as well as floor is Red Mosaic. washroom1 is in northeast with 5 square meters. washroom2 covers 3 square meters located in north. washroom2 has Yellow Granite wall, and floor is Marble and Orange. Moreover, livingroom1 has 51 squares in center. wall of livingroom1 is Mosaic and Pink while floor is Coating and Blue. Besides, study1 has White Cement_Board wall as well as uses Orange Coating for floor. study1 has 9 squares in east. In addition, floor of bedroom1 is Wood_Grain and Purple while has Red Bamboo_Vine wall. bedroom1 has 19 squares in east. Moreover, floor of bedroom2 is Coating and Earth_color as well as wall is Painted_Wood and Gray. bedroom2 has 16 squares in southeast. Additionally, kitchen1 uses Pink Wallpaper for floor, and wall is Gray Wood_Veneer. kitchen1 has 10 squares in southwest. wall of balcony1 is Jade and Blue while has Yellow Stone_Brick floor. balcony1 has 3 squares in west. bedroom1, bedroom2, kitchen1, study1, washroom1, washroom2 and livingroom1 are connected. bedroom1 is adjacent to study1, washroom1. bedroom2 is next to study1. kitchen1 is adjacent to balcony1. washroom1 is next to washroom2. \n",
            "The house plan has two bedrooms, one washroom, one balcony, one livingroom, and one kitchen. In practice, bedroom1 is in north with 17 square meters. bedroom1 has Wood_color Wallpaper wall, and floor is Wood_Grain and Purple. bedroom2 uses Gray Stone_Brick for floor while wall is Ceramic_Tile and Orange. bedroom2 has 9 squares in west. washroom1 has Orange Rock_Plate wall, and floor is Ceramics and Wood_color. washroom1 covers 6 square meters located in south. Moreover, balcony1 is in north with 8 square meters. balcony1 uses Red Stone_Brick for floor as well as wall is Rock_Plate and Black. livingroom1 wall is Black Pure_Color_Wood, and floor is Quartz and Blue. livingroom1 covers 38 square meters located in center. Besides, kitchen1 has 8 squares in south. wall of kitchen1 is Mosaic and Red while uses Red Ceramics for floor. livingroom1 is adjacent to bedroom1, bedroom2, kitchen1, balcony1, washroom1. bedroom1 is next to bedroom2, balcony1. bedroom2 is adjacent to washroom1. kitchen1 is next to washroom1. \n",
            "The building contains two washrooms, one livingroom, one study, three bedrooms, one kitchen, and two balconys. More specifically, washroom1 has 5 squares in west. floor of washroom1 is Mosaic and Red as well as has Earth_color Wallpaper wall. washroom2 wall is Gray Cement_Board while floor is Stone_Brick and Pink. washroom2 has 4 squares in north. livingroom1 uses Gray Bamboo_Vine for floor as well as wall is Ceramic_Tile and Gray. livingroom1 has 48 squares in east. Moreover, study1 has Earth_color Wallpaper floor while wall is Mosaic and Yellow. study1 has 9 squares in west. Besides, bedroom1 has Purple Quartz wall, and floor is Quartz and Green. bedroom1 is in southwest with 21 square meters. bedroom2 has 16 squares in south. bedroom2 floor is Purple Mosaic as well as wall is Purple Jade. Additionally, bedroom3 covers 11 square meters located in northwest. bedroom3 floor is Green Cement_Board while has Orange Wallpaper wall. kitchen1 has 7 squares in north. kitchen1 wall is Green Rock_Plate as well as has Yellow Ceramic_Tile floor. balcony1 is in southeast with 8 square meters. balcony1 floor is Purple Ceramics while has White Wallpaper wall. balcony2 uses Purple Granite for floor as well as has Green Bamboo_Vine wall. balcony2 has 6 squares in northeast. bedroom1, bedroom2, bedroom3, study1, balcony1, kitchen1, balcony2, washroom2 and livingroom1 are connected. bedroom1 is adjacent to bedroom2, washroom1. study1, washroom2 and bedroom3 are connected. study1 is adjacent to washroom1. washroom2 and kitchen1 are connected. \n",
            "Building layout contains one washroom, two bedrooms, one livingroom, and one kitchen. More specifically, washroom1 has 3 squares in northeast. washroom1 floor is Earth_color Cement_Board, and wall is Gray Pure_Color_Wood. bedroom1 is in southwest with 6 square meters. wall of bedroom1 is Jade and Orange while floor is Quartz and Yellow. bedroom2 covers 5 square meters located in west. bedroom2 wall is Black Wood_Grain, and uses Blue Painted_Wood for floor. livingroom1 covers 19 square meters located in center. livingroom1 wall is Orange Cement_Board while floor is Wallpaper and Wood_color. Moreover, floor of kitchen1 is Jade and Yellow, and wall is Wallpaper and Purple. kitchen1 has 3 squares in northeast. livingroom1 is adjacent to bedroom1, bedroom2, kitchen1, washroom1. bedroom2 and bedroom1 are connected. kitchen1 is adjacent to washroom1. \n",
            "House has three bedrooms, one washroom, one balcony, one livingroom, and one kitchen. Specifically, floor of bedroom1 is Rock_Plate and Green, and has Wood_color Painted_Wood wall. bedroom1 has 12 squares in north. bedroom2 has 10 squares in southwest. bedroom2 has Earth_color Wall_Cloth floor while wall is White Wall_Cloth. bedroom3 covers 8 square meters located in west. bedroom3 has Purple Ceramics wall as well as floor is Marble and White. washroom1 wall is White Granite while floor is Granite and Green. washroom1 is in south with 3 square meters. In addition, balcony1 has 6 squares in northeast. balcony1 wall is Red Wall_Cloth as well as has White Coating floor. Besides, livingroom1 has 32 squares in east. livingroom1 uses Gray Cement_Board for floor while has Orange Pure_Color_Wood wall. floor of kitchen1 is Granite and Earth_color, and wall is Earth_color Mosaic. kitchen1 has 7 squares in south. livingroom1 is adjacent to bedroom1, bedroom2, bedroom3, kitchen1, balcony1, washroom1. bedroom3, balcony1 and bedroom1 are connected. bedroom2 is adjacent to bedroom3, washroom1. washroom1 and kitchen1 are connected. \n",
            "The building contains two washrooms, one livingroom, one study, two bedrooms, two kitchens, and one balcony. In practice, washroom1 has Purple Wood_Grain floor as well as wall is Green Wood_Grain. washroom1 has 4 squares in center. Additionally, wall of washroom2 is Marble and Wood_color while floor is Log and Red. washroom2 has 3 squares in east. In addition, livingroom1 uses Red Ceramic_Tile for floor, and wall is Marble and Blue. livingroom1 covers 42 square meters located in center. Additionally, study1 has 9 squares in east. study1 floor is Earth_color Coating as well as wall is Orange Marble. Besides, bedroom1 has 15 squares in west. bedroom1 wall is Red Stone_Brick, and uses Black Wall_Cloth for floor. Additionally, bedroom2 wall is Gray Granite while floor is Ceramic_Tile and White. bedroom2 covers 13 square meters located in center. In addition, kitchen1 is in west with 12 square meters. kitchen1 wall is Orange Wall_Cloth as well as has Wood_color Bamboo_Vine floor. Moreover, kitchen2 covers 10 square meters located in southeast. kitchen2 has Yellow Pure_Color_Wood floor while wall is Ceramic_Tile and Yellow. balcony1 has 7 squares in east. floor of balcony1 is Cement_Board and Red, and wall is Red Cement_Board. livingroom1 is adjacent to bedroom1, bedroom2, kitchen1, kitchen2, study1, washroom1, washroom2. kitchen1, washroom1 and bedroom1 are connected. bedroom2 is adjacent to study1, washroom1. kitchen2 is next to balcony1, washroom2. study1 is adjacent to balcony1, washroom2. balcony1 is next to washroom2. \n",
            "The house plan has three bedrooms, two washrooms, one balcony, one livingroom, and one kitchen. In practice, floor of bedroom1 is Jade and White as well as wall is Green Cement_Board. bedroom1 has 15 squares in northwest. bedroom2 covers 10 square meters located in north. bedroom2 has Purple Log wall, and floor is Green Ceramic_Tile. Additionally, bedroom3 is in south with 8 square meters. wall of bedroom3 is Painted_Wood and Black as well as floor is Rock_Plate and Green. washroom1 covers 5 square meters located in south. floor of washroom1 is Log and Gray while wall is Log and Gray. washroom2 uses Black Pure_Color_Wood for floor, and wall is Painted_Wood and Blue. washroom2 covers 4 square meters located in west. wall of balcony1 is Quartz and Orange while has Green Quartz floor. balcony1 covers 4 square meters located in northeast. livingroom1 covers 30 square meters located in east. livingroom1 wall is Gray Stone_Brick as well as has Wood_color Cement_Board floor. Besides, floor of kitchen1 is Bamboo_Vine and Black, and wall is Purple Painted_Wood. kitchen1 covers 7 square meters located in south. bedroom1, bedroom2, bedroom3, kitchen1, washroom1, balcony1 and livingroom1 are connected. bedroom1 is adjacent to bedroom2, bedroom3, washroom2. washroom1, washroom2 and bedroom3 are connected. kitchen1 is next to washroom1. \n",
            "The house plan has three bedrooms, two washrooms, two balconys, one livingroom, and one kitchen. More specifically, bedroom1 uses Earth_color Cement_Board for floor as well as wall is Wood_Veneer and Red. bedroom1 is in northeast with 12 square meters. bedroom2 has 9 squares in east. bedroom2 wall is Pink Ceramics while floor is Purple Quartz. bedroom3 is in south with 6 square meters. bedroom3 has Wood_color Painted_Wood wall as well as floor is Cement_Board and Earth_color. wall of washroom1 is Cement_Board and Pink, and uses Red Wall_Cloth for floor. washroom1 has 3 squares in east. washroom2 has Yellow Rock_Plate wall while uses Gray Cement_Board for floor. washroom2 covers 3 square meters located in center. balcony1 is in southwest with 6 square meters. floor of balcony1 is Pure_Color_Wood and Wood_color as well as wall is Ceramics and Wood_color. balcony2 has Pink Coating floor, and has Red Ceramic_Tile wall. balcony2 covers 3 square meters located in northwest. In addition, livingroom1 covers 27 square meters located in west. wall of livingroom1 is Quartz and Orange as well as uses Gray Wall_Cloth for floor. kitchen1 wall is Green Bamboo_Vine, and floor is Ceramic_Tile and Blue. kitchen1 has 5 squares in north. bedroom1, bedroom2, bedroom3, balcony1, kitchen1, washroom1, balcony2, washroom2 and livingroom1 are connected. bedroom1 is next to washroom1, washroom2. bedroom2 is adjacent to bedroom3, washroom1. washroom2 and kitchen1 are connected. \n",
            "Building layout contains three bedrooms, one washroom, one balcony, one livingroom, and one kitchen. In practice, bedroom1 has Blue Mosaic wall, and has Red Log floor. bedroom1 covers 17 square meters located in southwest. bedroom2 wall is Wood_color Stone_Brick as well as floor is Red Stone_Brick. bedroom2 covers 17 square meters located in northwest. bedroom3 covers 15 square meters located in west. wall of bedroom3 is Log and Red while has Red Marble floor. washroom1 has Yellow Bamboo_Vine wall as well as uses Yellow Pure_Color_Wood for floor. washroom1 is in southeast with 4 square meters. balcony1 floor is Earth_color Granite, and wall is Granite and Blue. balcony1 covers 12 square meters located in west. livingroom1 is in east with 44 square meters. floor of livingroom1 is Bamboo_Vine and Red as well as has Wood_color Wood_Grain wall. Additionally, kitchen1 wall is Pink Coating, and uses Pink Wall_Cloth for floor. kitchen1 covers 8 square meters located in northeast. livingroom1 is adjacent to bedroom1, bedroom2, bedroom3, kitchen1, washroom1. bedroom3, balcony1 and bedroom1 are connected. bedroom2 is next to bedroom3. bedroom3 is adjacent to balcony1. \n",
            "Building layout contains one washroom, two bedrooms, one livingroom, and one balcony. More specifically, washroom1 has 3 squares in north. washroom1 uses Black Wood_Veneer for floor as well as wall is Red Painted_Wood. Moreover, bedroom1 floor is Red Ceramics, and wall is Wood_color Jade. bedroom1 covers 12 square meters located in northeast. bedroom2 wall is Black Jade while floor is Bamboo_Vine and Pink. bedroom2 covers 7 square meters located in northwest. livingroom1 is in center with 23 square meters. livingroom1 has Earth_color Quartz floor, and wall is Earth_color Ceramic_Tile. balcony1 floor is Blue Cement_Board while wall is Pure_Color_Wood and Green. balcony1 covers 3 square meters located in southeast. livingroom1 is adjacent to bedroom1, bedroom2, washroom1, balcony1. washroom1, balcony1 and bedroom1 are connected. bedroom2 is adjacent to washroom1. \n",
            "The house plan has two bedrooms, one washroom, two balconys, one livingroom, and one kitchen. Specifically, wall of bedroom1 is Bamboo_Vine and Red as well as floor is Painted_Wood and White. bedroom1 is in east with 12 square meters. In addition, bedroom2 covers 9 square meters located in northwest. wall of bedroom2 is Bamboo_Vine and Yellow while uses Green Ceramic_Tile for floor. floor of washroom1 is Marble and Purple as well as wall is White Coating. washroom1 has 3 squares in north. balcony1 covers 6 square meters located in southeast. balcony1 uses Pink Marble for floor, and has White Painted_Wood wall. balcony2 wall is Red Marble as well as floor is Painted_Wood and Black. balcony2 is in west with 3 square meters. livingroom1 wall is Red Rock_Plate, and floor is Purple Wood_Veneer. livingroom1 covers 23 square meters located in south. kitchen1 has Blue Wood_Grain floor while wall is Rock_Plate and Blue. kitchen1 has 5 squares in southwest. bedroom1, bedroom2, balcony1, kitchen1, washroom1 and livingroom1 are connected. bedroom1 is next to balcony1, washroom1. washroom1, balcony2 and bedroom2 are connected. kitchen1 is adjacent to balcony2. \n",
            "House has one washroom, one livingroom, one study, two bedrooms, one kitchen, and one balcony. More specifically, floor of washroom1 is Stone_Brick and Yellow as well as has Pink Marble wall. washroom1 covers 4 square meters located in west. livingroom1 uses Purple Log for floor while has Orange Coating wall. livingroom1 covers 29 square meters located in center. study1 has 5 squares in west. study1 wall is Green Ceramics, and floor is Stone_Brick and Purple. Moreover, bedroom1 uses Wood_color Log for floor as well as wall is Black Wood_Veneer. bedroom1 covers 13 square meters located in south. bedroom2 has Orange Ceramic_Tile wall while floor is Wood_color Bamboo_Vine. bedroom2 covers 9 square meters located in north. Additionally, kitchen1 covers 7 square meters located in north. floor of kitchen1 is Cement_Board and Black as well as wall is Wood_Veneer and Wood_color. balcony1 has 6 squares in south. balcony1 wall is Orange Pure_Color_Wood, and floor is Pure_Color_Wood and Yellow. bedroom1, bedroom2, kitchen1, balcony1, study1, washroom1 and livingroom1 are connected. bedroom1 is next to balcony1, study1. bedroom2 is adjacent to kitchen1, washroom1. study1 is next to washroom1. \n",
            "The building contains two bedrooms, one washroom, one balcony, one livingroom, and one kitchen. To be specific, floor of bedroom1 is Ceramics and Wood_color as well as wall is Purple Mosaic. bedroom1 is in north with 13 square meters. In addition, bedroom2 floor is White Log while has Red Wood_Veneer wall. bedroom2 covers 10 square meters located in northeast. Besides, washroom1 has 4 squares in east. washroom1 has Gray Wallpaper wall, and uses Green Coating for floor. balcony1 has 6 squares in northwest. balcony1 has Pink Stone_Brick wall as well as uses Purple Log for floor. Moreover, livingroom1 is in center with 23 square meters. wall of livingroom1 is Coating and Gray, and floor is Wood_color Coating. kitchen1 floor is Earth_color Wood_Veneer while has Red Painted_Wood wall. kitchen1 is in southeast with 7 square meters. livingroom1 is adjacent to bedroom1, bedroom2, kitchen1, washroom1. bedroom1 is next to bedroom2, balcony1. bedroom2 is adjacent to washroom1. \n",
            "House has three bedrooms, one washroom, one balcony, one livingroom, and one kitchen. In practice, bedroom1 has 13 squares in south. wall of bedroom1 is Bamboo_Vine and Green, and uses White Mosaic for floor. bedroom2 has 9 squares in north. bedroom2 has Earth_color Coating floor as well as wall is Stone_Brick and Green. bedroom3 covers 5 square meters located in west. bedroom3 uses Red Ceramics for floor while wall is Gray Wood_Veneer. wall of washroom1 is Jade and Green, and has Earth_color Wood_Veneer floor. washroom1 has 4 squares in west. balcony1 is in south with 6 square meters. balcony1 wall is Red Wall_Cloth while floor is Rock_Plate and Purple. livingroom1 covers 30 square meters located in center. livingroom1 floor is Pink Painted_Wood as well as has Black Jade wall. kitchen1 is in north with 6 square meters. kitchen1 uses Wood_color Ceramics for floor, and wall is White Granite. livingroom1 is adjacent to bedroom1, bedroom2, balcony1, kitchen1, bedroom3, washroom1. balcony1, bedroom3 and bedroom1 are connected. bedroom2 is next to kitchen1, washroom1. bedroom3 is adjacent to washroom1. \n",
            "Building layout contains one washroom, one livingroom, and three bedrooms. Specifically, washroom1 has Yellow Pure_Color_Wood floor as well as has Blue Wallpaper wall. washroom1 is in southwest with 4 square meters. Additionally, livingroom1 uses Gray Bamboo_Vine for floor, and wall is Wall_Cloth and Black. livingroom1 is in center with 27 square meters. floor of bedroom1 is Wood_Veneer and White as well as wall is Yellow Wood_Veneer. bedroom1 has 10 squares in northwest. Besides, bedroom2 covers 9 square meters located in northeast. bedroom2 floor is Wood_color Wood_Grain, and wall is Wood_Veneer and Green. bedroom3 has 8 squares in north. bedroom3 floor is Yellow Quartz as well as has Red Log wall. bedroom1, bedroom2, bedroom3, washroom1 and livingroom1 are connected. bedroom1 is next to bedroom3. bedroom2 is adjacent to bedroom3. \n",
            "The house plan has two bedrooms, one washroom, one balcony, one livingroom, and one kitchen. To be specific, bedroom1 is in northwest with 13 square meters. bedroom1 wall is Black Wallpaper as well as floor is Quartz and Red. bedroom2 has Black Mosaic floor, and wall is Mosaic and Wood_color. bedroom2 is in east with 9 square meters. washroom1 is in north with 5 square meters. washroom1 wall is Pink Bamboo_Vine while floor is Cement_Board and White. balcony1 is in west with 5 square meters. balcony1 has Pink Coating wall, and floor is Wood_color Wood_Grain. livingroom1 wall is Blue Bamboo_Vine while has Orange Jade floor. livingroom1 has 26 squares in center. Additionally, kitchen1 covers 6 square meters located in southeast. kitchen1 has Green Wood_Grain floor as well as wall is Gray Quartz. bedroom1, bedroom2, kitchen1, balcony1, washroom1 and livingroom1 are connected. bedroom1 is adjacent to balcony1, washroom1. \n",
            "The house plan has one washroom, one livingroom, one study, two bedrooms, one kitchen, and one balcony. Specifically, washroom1 has Earth_color Wall_Cloth wall, and uses Green Rock_Plate for floor. washroom1 covers 3 square meters located in west. livingroom1 covers 29 square meters located in center. livingroom1 floor is Pink Wall_Cloth while wall is Blue Mosaic. Additionally, study1 floor is Blue Log, and wall is Stone_Brick and Green. study1 covers 7 square meters located in center. Moreover, bedroom1 wall is White Painted_Wood while floor is Purple Pure_Color_Wood. bedroom1 covers 13 square meters located in south. bedroom2 floor is Gray Wallpaper, and has Purple Granite wall. bedroom2 has 9 squares in north. In addition, kitchen1 is in north with 6 square meters. kitchen1 has Gray Pure_Color_Wood wall while floor is Black Cement_Board. balcony1 uses Blue Wall_Cloth for floor, and wall is Wood_Grain and Red. balcony1 has 6 squares in south. livingroom1 is adjacent to bedroom1, bedroom2, study1, kitchen1, balcony1, washroom1. bedroom1 is next to study1, balcony1. kitchen1, washroom1 and bedroom2 are connected. study1 is adjacent to washroom1. \n",
            "The house plan has one washroom, one livingroom, and two bedrooms. Specifically, washroom1 wall is Earth_color Cement_Board as well as floor is Pink Bamboo_Vine. washroom1 covers 6 square meters located in north. In addition, livingroom1 uses Pink Mosaic for floor, and wall is Purple Ceramic_Tile. livingroom1 covers 46 square meters located in center. Additionally, bedroom1 has 13 squares in northwest. bedroom1 has Orange Marble wall while uses White Granite for floor. Besides, bedroom2 uses Wood_color Ceramics for floor, and wall is Pink Stone_Brick. bedroom2 has 10 squares in northeast. livingroom1 is adjacent to bedroom1, bedroom2, washroom1. washroom1 and bedroom1 are connected. bedroom2 is next to washroom1. \n",
            "The house plan has two bedrooms, one washroom, one balcony, one livingroom, and one kitchen. To be specific, bedroom1 has 14 squares in south. bedroom1 has White Marble floor, and has Black Wood_Veneer wall. In addition, bedroom2 is in north with 13 square meters. bedroom2 wall is Wood_color Wood_Veneer as well as floor is Ceramics and Blue. Additionally, washroom1 is in west with 6 square meters. floor of washroom1 is Log and Orange, and wall is Pink Granite. In addition, balcony1 is in south with 4 square meters. balcony1 has Earth_color Wood_Veneer wall while has Red Coating floor. floor of livingroom1 is Mosaic and White as well as wall is Yellow Ceramic_Tile. livingroom1 has 38 squares in center. kitchen1 has 7 squares in north. kitchen1 wall is Black Pure_Color_Wood, and uses Wood_color Wall_Cloth for floor. bedroom1, bedroom2, kitchen1, washroom1, balcony1 and livingroom1 are connected. bedroom1 is next to washroom1. kitchen1, washroom1 and bedroom2 are connected. \n",
            "House has three bedrooms, one washroom, one balcony, one livingroom, and one kitchen. Specifically, bedroom1 has 13 squares in west. bedroom1 wall is Red Quartz, and uses Pink Cement_Board for floor. In addition, bedroom2 has Yellow Jade floor while wall is Green Pure_Color_Wood. bedroom2 covers 10 square meters located in east. bedroom3 uses Wood_color Rock_Plate for floor, and wall is Wood_Veneer and Purple. bedroom3 covers 7 square meters located in east. washroom1 uses Gray Wallpaper for floor as well as has Gray Rock_Plate wall. washroom1 has 4 squares in north. Additionally, balcony1 has Gray Ceramic_Tile wall, and uses Gray Wall_Cloth for floor. balcony1 has 6 squares in west. Besides, livingroom1 uses Gray Cement_Board for floor as well as wall is Mosaic and Black. livingroom1 has 30 squares in center. Additionally, wall of kitchen1 is Ceramic_Tile and Red, and floor is Earth_color Granite. kitchen1 covers 7 square meters located in center. bedroom1, bedroom2, bedroom3, kitchen1, balcony1, washroom1 and livingroom1 are connected. bedroom1 is adjacent to kitchen1, balcony1. bedroom2 is next to bedroom3. washroom1 and bedroom3 are connected. kitchen1 is next to washroom1. \n",
            "The house plan has one washroom, one livingroom, and two bedrooms. Specifically, washroom1 wall is Wood_color Ceramics, and floor is Pink Cement_Board. washroom1 has 5 squares in west. livingroom1 covers 48 square meters located in center. livingroom1 has Green Stone_Brick floor as well as has Earth_color Ceramic_Tile wall. Moreover, bedroom1 covers 15 square meters located in north. bedroom1 has Black Ceramics wall, and floor is Orange Cement_Board. bedroom2 is in south with 13 square meters. bedroom2 has Green Painted_Wood wall while floor is Wood_color Stone_Brick. livingroom1 is adjacent to bedroom1, bedroom2, washroom1. washroom1 and bedroom1 are connected. bedroom2 is next to washroom1. \n",
            "Building layout contains two washrooms, one livingroom, one study, two bedrooms, one kitchen, and two balconys. In practice, washroom1 is in southwest with 9 square meters. washroom1 floor is Earth_color Wallpaper as well as wall is Mosaic and Pink. In addition, washroom2 covers 5 square meters located in south. washroom2 floor is White Painted_Wood while has Green Mosaic wall. livingroom1 is in east with 35 square meters. livingroom1 uses Earth_color Log for floor as well as wall is Gray Wood_Grain. Besides, floor of study1 is Wallpaper and Blue, and wall is Purple Granite. study1 covers 11 square meters located in south. bedroom1 is in west with 22 square meters. bedroom1 has Earth_color Pure_Color_Wood wall as well as has White Bamboo_Vine floor. Additionally, bedroom2 covers 12 square meters located in north. bedroom2 uses Red Rock_Plate for floor, and wall is Ceramic_Tile and Gray. kitchen1 has 10 squares in south. kitchen1 wall is Green Marble while floor is Wood_color Painted_Wood. In addition, balcony1 covers 13 square meters located in northeast. balcony1 has Blue Ceramics floor as well as wall is Gray Pure_Color_Wood. Moreover, balcony2 has Red Wood_Grain wall while floor is Green Granite. balcony2 is in south with 3 square meters. bedroom1, balcony1, bedroom2, study1, kitchen1, washroom2 and livingroom1 are connected. bedroom1 is next to bedroom2, study1, washroom1. balcony1 is adjacent to bedroom2. washroom1, washroom2, balcony2 and study1 are connected. kitchen1 is adjacent to washroom2, balcony2. balcony2 and washroom2 are connected. \n",
            "The building contains one washroom, one livingroom, and one bedroom. Specifically, washroom1 wall is Orange Wood_Veneer, and has Orange Wood_Veneer floor. washroom1 covers 5 square meters located in northeast. livingroom1 covers 37 square meters located in center. livingroom1 has Green Coating wall as well as floor is Ceramics and Purple. In addition, bedroom1 covers 14 square meters located in east. wall of bedroom1 is Coating and Green, and floor is Purple Cement_Board. livingroom1 is adjacent to bedroom1, washroom1. washroom1 and bedroom1 are connected. \n",
            "The building contains two bedrooms, one washroom, one balcony, one livingroom, and one kitchen. To be specific, bedroom1 has 10 squares in south. bedroom1 has White Wall_Cloth floor, and wall is Gray Jade. In addition, bedroom2 is in northeast with 10 square meters. bedroom2 has Earth_color Jade wall while has Pink Wallpaper floor. Moreover, washroom1 has 4 squares in northwest. washroom1 has Purple Pure_Color_Wood floor, and wall is Pink Mosaic. balcony1 covers 4 square meters located in southwest. floor of balcony1 is Wood_Grain and Wood_color as well as wall is Blue Coating. Besides, livingroom1 has Purple Ceramic_Tile wall while uses Blue Coating for floor. livingroom1 is in center with 22 square meters. kitchen1 covers 6 square meters located in center. floor of kitchen1 is Wood_Grain and Red as well as has Gray Bamboo_Vine wall. livingroom1 is adjacent to bedroom1, bedroom2, kitchen1, balcony1, washroom1. bedroom1 is next to kitchen1, balcony1. bedroom2 is adjacent to kitchen1. \n",
            "House has two bedrooms, one washroom, one balcony, one livingroom, and one kitchen. To be specific, bedroom1 covers 19 square meters located in west. wall of bedroom1 is Painted_Wood and White, and has Orange Mosaic floor. Additionally, bedroom2 covers 13 square meters located in northeast. floor of bedroom2 is Ceramic_Tile and Blue as well as has Gray Jade wall. washroom1 covers 5 square meters located in east. washroom1 has Black Painted_Wood floor while has Wood_color Painted_Wood wall. In addition, balcony1 wall is Pink Wall_Cloth, and has Black Wood_Veneer floor. balcony1 has 7 squares in southwest. wall of livingroom1 is Wood_Veneer and Yellow while has Orange Rock_Plate floor. livingroom1 is in center with 43 square meters. Additionally, kitchen1 has 8 squares in southeast. kitchen1 floor is Black Marble, and has Earth_color Mosaic wall. bedroom1, bedroom2, kitchen1, balcony1, washroom1 and livingroom1 are connected. bedroom1 is adjacent to balcony1. bedroom2 is next to washroom1. washroom1 and kitchen1 are connected. \n",
            "The house plan has one bedroom, one washroom, two balconys, one livingroom, and one kitchen. In practice, bedroom1 is in east with 12 square meters. bedroom1 wall is Pink Ceramics as well as uses Red Quartz for floor. Moreover, washroom1 covers 5 square meters located in northeast. wall of washroom1 is Cement_Board and Purple while has Wood_color Granite floor. Besides, balcony1 covers 3 square meters located in southwest. balcony1 wall is Yellow Coating as well as floor is Black Wood_Veneer. In addition, balcony2 wall is Earth_color Bamboo_Vine, and has Pink Wallpaper floor. balcony2 is in northeast with 2 square meters. Besides, livingroom1 is in west with 20 square meters. livingroom1 wall is Green Marble as well as floor is Yellow Cement_Board. floor of kitchen1 is Painted_Wood and Green, and wall is Quartz and Yellow. kitchen1 has 7 squares in north. bedroom1, kitchen1, washroom1, balcony1 and livingroom1 are connected. bedroom1 is adjacent to washroom1. kitchen1 is next to washroom1, balcony2. washroom1 is adjacent to balcony2. \n",
            "The building contains one washroom, two bedrooms, one livingroom, and one kitchen. Specifically, washroom1 has 2 squares in northeast. washroom1 uses Green Wood_Veneer for floor, and wall is Ceramic_Tile and Blue. bedroom1 is in southwest with 6 square meters. bedroom1 has Green Marble floor while has Blue Marble wall. Additionally, bedroom2 has Orange Jade wall as well as floor is Cement_Board and Earth_color. bedroom2 is in west with 5 square meters. livingroom1 has 18 squares in center. livingroom1 uses Yellow Wall_Cloth for floor while wall is Purple Stone_Brick. kitchen1 has Black Quartz floor, and wall is Bamboo_Vine and White. kitchen1 covers 4 square meters located in northeast. livingroom1 is adjacent to bedroom1, bedroom2, kitchen1, washroom1. bedroom1 is next to bedroom2. kitchen1 is adjacent to washroom1. \n",
            "House has one washroom, one livingroom, two studys, one bedroom, one kitchen, and one balcony. Specifically, washroom1 is in west with 4 square meters. washroom1 floor is Blue Ceramic_Tile as well as wall is Stone_Brick and Blue. Additionally, livingroom1 wall is White Bamboo_Vine while floor is Coating and Blue. livingroom1 is in center with 34 square meters. Besides, study1 covers 10 square meters located in east. wall of study1 is Wood_Veneer and Orange, and uses White Wood_Veneer for floor. wall of study2 is Ceramic_Tile and Gray as well as floor is Pure_Color_Wood and Earth_color. study2 is in west with 7 square meters. bedroom1 floor is Wood_color Pure_Color_Wood while has Earth_color Stone_Brick wall. bedroom1 has 13 squares in center. Moreover, wall of kitchen1 is Cement_Board and Yellow as well as has Wood_color Jade floor. kitchen1 has 5 squares in center. floor of balcony1 is Wood_Veneer and Pink while wall is Pure_Color_Wood and White. balcony1 covers 5 square meters located in east. livingroom1 is adjacent to bedroom1, study1, study2, balcony1, kitchen1, washroom1. study1, kitchen1 and bedroom1 are connected. study2 is next to washroom1. washroom1 and kitchen1 are connected. \n",
            "House has two bedrooms, one washroom, one balcony, one livingroom, and one kitchen. To be specific, bedroom1 has 14 squares in north. bedroom1 has Purple Log wall as well as uses Yellow Wood_Grain for floor. Additionally, bedroom2 uses Red Rock_Plate for floor while wall is Ceramics and Gray. bedroom2 covers 11 square meters located in southeast. floor of washroom1 is Pure_Color_Wood and Red as well as wall is Orange Coating. washroom1 covers 3 square meters located in east. balcony1 has 5 squares in north. balcony1 wall is Green Log, and uses Red Pure_Color_Wood for floor. In addition, livingroom1 is in center with 26 square meters. wall of livingroom1 is Wood_Grain and Wood_color as well as uses Green Bamboo_Vine for floor. Moreover, wall of kitchen1 is Quartz and Black, and has Earth_color Wallpaper floor. kitchen1 is in south with 5 square meters. livingroom1 is adjacent to bedroom1, bedroom2, kitchen1, balcony1, washroom1. balcony1, washroom1 and bedroom1 are connected. bedroom2 is adjacent to kitchen1, washroom1. \n",
            "The house plan has one washroom, two bedrooms, one livingroom, and one kitchen. More specifically, washroom1 uses Pink Quartz for floor, and wall is Green Wood_Veneer. washroom1 covers 4 square meters located in east. In addition, bedroom1 is in south with 13 square meters. bedroom1 has Earth_color Marble floor as well as has Green Wallpaper wall. Besides, bedroom2 is in center with 10 square meters. bedroom2 wall is Red Ceramics while uses Earth_color Wood_Grain for floor. Additionally, livingroom1 has Wood_color Wood_Veneer floor, and wall is Bamboo_Vine and Yellow. livingroom1 has 41 squares in center. Besides, kitchen1 uses Black Stone_Brick for floor as well as has Wood_color Cement_Board wall. kitchen1 is in northeast with 9 square meters. bedroom1, bedroom2, kitchen1, washroom1 and livingroom1 are connected. bedroom1 is adjacent to washroom1. kitchen1, washroom1 and bedroom2 are connected. \n",
            "The building contains one washroom, one livingroom, and one bedroom. More specifically, washroom1 uses Purple Wood_Veneer for floor as well as has Blue Wood_Grain wall. washroom1 covers 5 square meters located in northwest. Moreover, livingroom1 has 29 squares in south. livingroom1 floor is White Marble while has Yellow Jade wall. bedroom1 is in north with 11 square meters. bedroom1 floor is Black Rock_Plate, and wall is Wood_Grain and Gray. bedroom1, washroom1 and livingroom1 are connected. bedroom1 is adjacent to washroom1. \n",
            "Building layout contains one washroom, one livingroom, one study, two bedrooms, one kitchen, and one balcony. To be specific, washroom1 has Earth_color Wood_Grain floor as well as wall is Ceramic_Tile and Earth_color. washroom1 has 5 squares in north. floor of livingroom1 is Bamboo_Vine and Pink while has Wood_color Coating wall. livingroom1 has 41 squares in south. In addition, study1 covers 9 square meters located in northeast. study1 uses Red Ceramics for floor as well as wall is Gray Wallpaper. Besides, floor of bedroom1 is Ceramics and Pink while has Black Wood_Grain wall. bedroom1 covers 12 square meters located in west. bedroom2 is in northwest with 12 square meters. bedroom2 wall is Blue Ceramics as well as floor is Black Wood_Grain. floor of kitchen1 is Quartz and Red, and wall is Red Wallpaper. kitchen1 has 6 squares in east. balcony1 covers 6 square meters located in southwest. balcony1 floor is Green Wood_Veneer while wall is Cement_Board and Yellow. bedroom1, bedroom2, study1, kitchen1, balcony1, washroom1 and livingroom1 are connected. bedroom1 is next to bedroom2. washroom1 and bedroom2 are connected. study1 is adjacent to kitchen1, washroom1. \n",
            "The building contains three bedrooms, one washroom, two balconys, one livingroom, and one kitchen. In practice, bedroom1 has 16 squares in west. bedroom1 wall is Gray Coating as well as has Blue Mosaic floor. bedroom2 floor is White Rock_Plate, and wall is Green Quartz. bedroom2 has 10 squares in northwest. Additionally, bedroom3 has Earth_color Painted_Wood floor while wall is Black Wood_Grain. bedroom3 has 9 squares in north. washroom1 is in northwest with 5 square meters. floor of washroom1 is Granite and Wood_color as well as has Yellow Wood_Grain wall. balcony1 wall is Black Log while has Green Painted_Wood floor. balcony1 is in south with 7 square meters. In addition, balcony2 has Yellow Granite floor as well as wall is Wood_Veneer and Blue. balcony2 has 4 squares in northeast. livingroom1 covers 36 square meters located in center. livingroom1 has Black Log wall, and floor is Purple Jade. kitchen1 is in northeast with 7 square meters. kitchen1 floor is Gray Mosaic while wall is Blue Rock_Plate. livingroom1 is adjacent to bedroom1, bedroom2, bedroom3, kitchen1, balcony1, washroom1. bedroom2 and bedroom1 are connected. bedroom2 is next to washroom1. washroom1 and bedroom3 are connected. kitchen1 is next to balcony2. \n"
          ],
          "name": "stdout"
        }
      ]
    },
    {
      "cell_type": "code",
      "metadata": {
        "id": "e1hzxmgEePUK"
      },
      "source": [
        "import spacy\r\n",
        "nlp = spacy.load('en_core_web_sm')"
      ],
      "execution_count": 5,
      "outputs": []
    },
    {
      "cell_type": "code",
      "metadata": {
        "id": "KMiuB4npfZCX"
      },
      "source": [
        "for line in document:\r\n",
        "  doc=nlp(line) \r\n",
        "  for ent in doc.ents:\r\n",
        "     #print(ent.text, ent.start_char, ent.end_char,ent.label_, spacy.explain(ent.label_))\r\n",
        "     pass"
      ],
      "execution_count": 6,
      "outputs": []
    },
    {
      "cell_type": "code",
      "metadata": {
        "colab": {
          "base_uri": "https://localhost:8080/",
          "height": 367
        },
        "id": "WgXkyfsvgS16",
        "outputId": "9aa947be-b672-407b-b850-dfcedde98f49"
      },
      "source": [
        "from spacy import displacy\r\n",
        "displacy.render(doc, style='ent', jupyter=True, options={'distance': 90})"
      ],
      "execution_count": 7,
      "outputs": [
        {
          "output_type": "display_data",
          "data": {
            "text/html": [
              "<span class=\"tex2jax_ignore\"><div class=\"entities\" style=\"line-height: 2.5; direction: ltr\">The building contains \n",
              "<mark class=\"entity\" style=\"background: #e4e7d2; padding: 0.45em 0.6em; margin: 0 0.25em; line-height: 1; border-radius: 0.35em;\">\n",
              "    three\n",
              "    <span style=\"font-size: 0.8em; font-weight: bold; line-height: 1; border-radius: 0.35em; text-transform: uppercase; vertical-align: middle; margin-left: 0.5rem\">CARDINAL</span>\n",
              "</mark>\n",
              " bedrooms, \n",
              "<mark class=\"entity\" style=\"background: #e4e7d2; padding: 0.45em 0.6em; margin: 0 0.25em; line-height: 1; border-radius: 0.35em;\">\n",
              "    one\n",
              "    <span style=\"font-size: 0.8em; font-weight: bold; line-height: 1; border-radius: 0.35em; text-transform: uppercase; vertical-align: middle; margin-left: 0.5rem\">CARDINAL</span>\n",
              "</mark>\n",
              " washroom, \n",
              "<mark class=\"entity\" style=\"background: #e4e7d2; padding: 0.45em 0.6em; margin: 0 0.25em; line-height: 1; border-radius: 0.35em;\">\n",
              "    two\n",
              "    <span style=\"font-size: 0.8em; font-weight: bold; line-height: 1; border-radius: 0.35em; text-transform: uppercase; vertical-align: middle; margin-left: 0.5rem\">CARDINAL</span>\n",
              "</mark>\n",
              " balconys, \n",
              "<mark class=\"entity\" style=\"background: #e4e7d2; padding: 0.45em 0.6em; margin: 0 0.25em; line-height: 1; border-radius: 0.35em;\">\n",
              "    one\n",
              "    <span style=\"font-size: 0.8em; font-weight: bold; line-height: 1; border-radius: 0.35em; text-transform: uppercase; vertical-align: middle; margin-left: 0.5rem\">CARDINAL</span>\n",
              "</mark>\n",
              " livingroom, and \n",
              "<mark class=\"entity\" style=\"background: #e4e7d2; padding: 0.45em 0.6em; margin: 0 0.25em; line-height: 1; border-radius: 0.35em;\">\n",
              "    one\n",
              "    <span style=\"font-size: 0.8em; font-weight: bold; line-height: 1; border-radius: 0.35em; text-transform: uppercase; vertical-align: middle; margin-left: 0.5rem\">CARDINAL</span>\n",
              "</mark>\n",
              " kitchen. In practice, bedroom1 has \n",
              "<mark class=\"entity\" style=\"background: #e4e7d2; padding: 0.45em 0.6em; margin: 0 0.25em; line-height: 1; border-radius: 0.35em;\">\n",
              "    16\n",
              "    <span style=\"font-size: 0.8em; font-weight: bold; line-height: 1; border-radius: 0.35em; text-transform: uppercase; vertical-align: middle; margin-left: 0.5rem\">CARDINAL</span>\n",
              "</mark>\n",
              " squares in \n",
              "<mark class=\"entity\" style=\"background: #feca74; padding: 0.45em 0.6em; margin: 0 0.25em; line-height: 1; border-radius: 0.35em;\">\n",
              "    west.\n",
              "    <span style=\"font-size: 0.8em; font-weight: bold; line-height: 1; border-radius: 0.35em; text-transform: uppercase; vertical-align: middle; margin-left: 0.5rem\">GPE</span>\n",
              "</mark>\n",
              " bedroom1 wall is \n",
              "<mark class=\"entity\" style=\"background: #aa9cfc; padding: 0.45em 0.6em; margin: 0 0.25em; line-height: 1; border-radius: 0.35em;\">\n",
              "    Gray Coating\n",
              "    <span style=\"font-size: 0.8em; font-weight: bold; line-height: 1; border-radius: 0.35em; text-transform: uppercase; vertical-align: middle; margin-left: 0.5rem\">PERSON</span>\n",
              "</mark>\n",
              " as well as has \n",
              "<mark class=\"entity\" style=\"background: #feca74; padding: 0.45em 0.6em; margin: 0 0.25em; line-height: 1; border-radius: 0.35em;\">\n",
              "    Blue Mosaic\n",
              "    <span style=\"font-size: 0.8em; font-weight: bold; line-height: 1; border-radius: 0.35em; text-transform: uppercase; vertical-align: middle; margin-left: 0.5rem\">GPE</span>\n",
              "</mark>\n",
              " floor. bedroom2 floor is \n",
              "<mark class=\"entity\" style=\"background: #7aecec; padding: 0.45em 0.6em; margin: 0 0.25em; line-height: 1; border-radius: 0.35em;\">\n",
              "    White Rock_Plate\n",
              "    <span style=\"font-size: 0.8em; font-weight: bold; line-height: 1; border-radius: 0.35em; text-transform: uppercase; vertical-align: middle; margin-left: 0.5rem\">ORG</span>\n",
              "</mark>\n",
              ", and wall is \n",
              "<mark class=\"entity\" style=\"background: #feca74; padding: 0.45em 0.6em; margin: 0 0.25em; line-height: 1; border-radius: 0.35em;\">\n",
              "    Green Quartz\n",
              "    <span style=\"font-size: 0.8em; font-weight: bold; line-height: 1; border-radius: 0.35em; text-transform: uppercase; vertical-align: middle; margin-left: 0.5rem\">GPE</span>\n",
              "</mark>\n",
              ". bedroom2 has \n",
              "<mark class=\"entity\" style=\"background: #e4e7d2; padding: 0.45em 0.6em; margin: 0 0.25em; line-height: 1; border-radius: 0.35em;\">\n",
              "    10\n",
              "    <span style=\"font-size: 0.8em; font-weight: bold; line-height: 1; border-radius: 0.35em; text-transform: uppercase; vertical-align: middle; margin-left: 0.5rem\">CARDINAL</span>\n",
              "</mark>\n",
              " squares in northwest. Additionally, \n",
              "<mark class=\"entity\" style=\"background: #7aecec; padding: 0.45em 0.6em; margin: 0 0.25em; line-height: 1; border-radius: 0.35em;\">\n",
              "    bedroom3\n",
              "    <span style=\"font-size: 0.8em; font-weight: bold; line-height: 1; border-radius: 0.35em; text-transform: uppercase; vertical-align: middle; margin-left: 0.5rem\">ORG</span>\n",
              "</mark>\n",
              " has Earth_color Painted_Wood floor while wall is \n",
              "<mark class=\"entity\" style=\"background: #ddd; padding: 0.45em 0.6em; margin: 0 0.25em; line-height: 1; border-radius: 0.35em;\">\n",
              "    Black Wood_Grain\n",
              "    <span style=\"font-size: 0.8em; font-weight: bold; line-height: 1; border-radius: 0.35em; text-transform: uppercase; vertical-align: middle; margin-left: 0.5rem\">FAC</span>\n",
              "</mark>\n",
              ". \n",
              "<mark class=\"entity\" style=\"background: #aa9cfc; padding: 0.45em 0.6em; margin: 0 0.25em; line-height: 1; border-radius: 0.35em;\">\n",
              "    bedroom3\n",
              "    <span style=\"font-size: 0.8em; font-weight: bold; line-height: 1; border-radius: 0.35em; text-transform: uppercase; vertical-align: middle; margin-left: 0.5rem\">PERSON</span>\n",
              "</mark>\n",
              " has \n",
              "<mark class=\"entity\" style=\"background: #e4e7d2; padding: 0.45em 0.6em; margin: 0 0.25em; line-height: 1; border-radius: 0.35em;\">\n",
              "    9\n",
              "    <span style=\"font-size: 0.8em; font-weight: bold; line-height: 1; border-radius: 0.35em; text-transform: uppercase; vertical-align: middle; margin-left: 0.5rem\">CARDINAL</span>\n",
              "</mark>\n",
              " squares in north. washroom1 is in northwest with \n",
              "<mark class=\"entity\" style=\"background: #e4e7d2; padding: 0.45em 0.6em; margin: 0 0.25em; line-height: 1; border-radius: 0.35em;\">\n",
              "    5 square meters\n",
              "    <span style=\"font-size: 0.8em; font-weight: bold; line-height: 1; border-radius: 0.35em; text-transform: uppercase; vertical-align: middle; margin-left: 0.5rem\">QUANTITY</span>\n",
              "</mark>\n",
              ". floor of washroom1 is Granite and Wood_color as well as has \n",
              "<mark class=\"entity\" style=\"background: #aa9cfc; padding: 0.45em 0.6em; margin: 0 0.25em; line-height: 1; border-radius: 0.35em;\">\n",
              "    Yellow\n",
              "    <span style=\"font-size: 0.8em; font-weight: bold; line-height: 1; border-radius: 0.35em; text-transform: uppercase; vertical-align: middle; margin-left: 0.5rem\">PERSON</span>\n",
              "</mark>\n",
              " Wood_Grain wall. balcony1 wall is \n",
              "<mark class=\"entity\" style=\"background: #ffeb80; padding: 0.45em 0.6em; margin: 0 0.25em; line-height: 1; border-radius: 0.35em;\">\n",
              "    Black Log\n",
              "    <span style=\"font-size: 0.8em; font-weight: bold; line-height: 1; border-radius: 0.35em; text-transform: uppercase; vertical-align: middle; margin-left: 0.5rem\">EVENT</span>\n",
              "</mark>\n",
              " while has Green Painted_Wood floor. balcony1 is in south with \n",
              "<mark class=\"entity\" style=\"background: #e4e7d2; padding: 0.45em 0.6em; margin: 0 0.25em; line-height: 1; border-radius: 0.35em;\">\n",
              "    7 square meters\n",
              "    <span style=\"font-size: 0.8em; font-weight: bold; line-height: 1; border-radius: 0.35em; text-transform: uppercase; vertical-align: middle; margin-left: 0.5rem\">QUANTITY</span>\n",
              "</mark>\n",
              ". In addition, balcony2 has Yellow Granite floor as well as wall is Wood_Veneer and Blue. balcony2 has \n",
              "<mark class=\"entity\" style=\"background: #e4e7d2; padding: 0.45em 0.6em; margin: 0 0.25em; line-height: 1; border-radius: 0.35em;\">\n",
              "    4\n",
              "    <span style=\"font-size: 0.8em; font-weight: bold; line-height: 1; border-radius: 0.35em; text-transform: uppercase; vertical-align: middle; margin-left: 0.5rem\">CARDINAL</span>\n",
              "</mark>\n",
              " squares in \n",
              "<mark class=\"entity\" style=\"background: #ff9561; padding: 0.45em 0.6em; margin: 0 0.25em; line-height: 1; border-radius: 0.35em;\">\n",
              "    northeast\n",
              "    <span style=\"font-size: 0.8em; font-weight: bold; line-height: 1; border-radius: 0.35em; text-transform: uppercase; vertical-align: middle; margin-left: 0.5rem\">LOC</span>\n",
              "</mark>\n",
              ". livingroom1 covers \n",
              "<mark class=\"entity\" style=\"background: #e4e7d2; padding: 0.45em 0.6em; margin: 0 0.25em; line-height: 1; border-radius: 0.35em;\">\n",
              "    36 square meters\n",
              "    <span style=\"font-size: 0.8em; font-weight: bold; line-height: 1; border-radius: 0.35em; text-transform: uppercase; vertical-align: middle; margin-left: 0.5rem\">QUANTITY</span>\n",
              "</mark>\n",
              " located in center. livingroom1 has \n",
              "<mark class=\"entity\" style=\"background: #ffeb80; padding: 0.45em 0.6em; margin: 0 0.25em; line-height: 1; border-radius: 0.35em;\">\n",
              "    Black Log\n",
              "    <span style=\"font-size: 0.8em; font-weight: bold; line-height: 1; border-radius: 0.35em; text-transform: uppercase; vertical-align: middle; margin-left: 0.5rem\">EVENT</span>\n",
              "</mark>\n",
              " wall, and floor is \n",
              "<mark class=\"entity\" style=\"background: #7aecec; padding: 0.45em 0.6em; margin: 0 0.25em; line-height: 1; border-radius: 0.35em;\">\n",
              "    Purple Jade\n",
              "    <span style=\"font-size: 0.8em; font-weight: bold; line-height: 1; border-radius: 0.35em; text-transform: uppercase; vertical-align: middle; margin-left: 0.5rem\">ORG</span>\n",
              "</mark>\n",
              ". kitchen1 is in northeast with \n",
              "<mark class=\"entity\" style=\"background: #e4e7d2; padding: 0.45em 0.6em; margin: 0 0.25em; line-height: 1; border-radius: 0.35em;\">\n",
              "    7 square meters\n",
              "    <span style=\"font-size: 0.8em; font-weight: bold; line-height: 1; border-radius: 0.35em; text-transform: uppercase; vertical-align: middle; margin-left: 0.5rem\">QUANTITY</span>\n",
              "</mark>\n",
              ". kitchen1 floor is \n",
              "<mark class=\"entity\" style=\"background: #aa9cfc; padding: 0.45em 0.6em; margin: 0 0.25em; line-height: 1; border-radius: 0.35em;\">\n",
              "    Gray Mosaic\n",
              "    <span style=\"font-size: 0.8em; font-weight: bold; line-height: 1; border-radius: 0.35em; text-transform: uppercase; vertical-align: middle; margin-left: 0.5rem\">PERSON</span>\n",
              "</mark>\n",
              " while wall is \n",
              "<mark class=\"entity\" style=\"background: #7aecec; padding: 0.45em 0.6em; margin: 0 0.25em; line-height: 1; border-radius: 0.35em;\">\n",
              "    Blue Rock_Plate\n",
              "    <span style=\"font-size: 0.8em; font-weight: bold; line-height: 1; border-radius: 0.35em; text-transform: uppercase; vertical-align: middle; margin-left: 0.5rem\">ORG</span>\n",
              "</mark>\n",
              ". livingroom1 is adjacent to bedroom1, \n",
              "<mark class=\"entity\" style=\"background: #feca74; padding: 0.45em 0.6em; margin: 0 0.25em; line-height: 1; border-radius: 0.35em;\">\n",
              "    bedroom2, bedroom3\n",
              "    <span style=\"font-size: 0.8em; font-weight: bold; line-height: 1; border-radius: 0.35em; text-transform: uppercase; vertical-align: middle; margin-left: 0.5rem\">GPE</span>\n",
              "</mark>\n",
              ", \n",
              "<mark class=\"entity\" style=\"background: #feca74; padding: 0.45em 0.6em; margin: 0 0.25em; line-height: 1; border-radius: 0.35em;\">\n",
              "    kitchen1\n",
              "    <span style=\"font-size: 0.8em; font-weight: bold; line-height: 1; border-radius: 0.35em; text-transform: uppercase; vertical-align: middle; margin-left: 0.5rem\">GPE</span>\n",
              "</mark>\n",
              ", balcony1, washroom1. bedroom2 and bedroom1 are connected. bedroom2 is next to washroom1. washroom1 and bedroom3 are connected. kitchen1 is next to balcony2. </div></span>"
            ],
            "text/plain": [
              "<IPython.core.display.HTML object>"
            ]
          },
          "metadata": {
            "tags": []
          }
        }
      ]
    },
    {
      "cell_type": "code",
      "metadata": {
        "id": "xfhJuT9lGbc9"
      },
      "source": [
        "sen=nlp(u'The building contains three bedrooms, one washroom, two balconys, one livingroom, and one kitchen. In practice, bedroom1 has 16 squares in west. bedroom1 wall is Gray Coating as well as has Blue Mosaic floor. bedroom2 floor is White Rock_Plate, and wall is Green Quartz. bedroom2 has 10 squares in northwest. Additionally, bedroom3 has Earth_color Painted_Wood floor while wall is Black Wood_Grain. bedroom3 has 9 squares in north. washroom1 is in northwest with 5 square meters. floor of washroom1 is Granite and Wood_color as well as has Yellow Wood_Grain wall. balcony1 wall is Black Log while has Green Painted_Wood floor. balcony1 is in south with 7 square meters. In addition, balcony2 has Yellow Granite floor as well as wall is Wood_Veneer and Blue. balcony2 has 4 squares in northeast. livingroom1 covers 36 square meters located in center. livingroom1 has Black Log wall, and floor is Purple Jade. kitchen1 is in northeast with 7 square meters. kitchen1 floor is Gray Mosaic while wall is Blue Rock_Plate. livingroom1 is adjacent to bedroom1, bedroom2, bedroom3, kitchen1, balcony1, washroom1. bedroom2 and bedroom1 are connected. bedroom2 is next to washroom1. washroom1 and bedroom3 are connected. kitchen1 is next to balcony2.')"
      ],
      "execution_count": 8,
      "outputs": []
    },
    {
      "cell_type": "code",
      "metadata": {
        "colab": {
          "base_uri": "https://localhost:8080/"
        },
        "id": "Kbx9_asbHCDF",
        "outputId": "b4a9b3db-c791-4b90-99ac-5a6796dd2c81"
      },
      "source": [
        "print(sen.ents)"
      ],
      "execution_count": 9,
      "outputs": [
        {
          "output_type": "stream",
          "text": [
            "(three, one, two, one, one, 16, west., Gray Coating, Blue Mosaic, White Rock_Plate, Green Quartz, 10, bedroom3, Black Wood_Grain, bedroom3, 9, 5 square meters, Yellow, Black Log, 7 square meters, 4, northeast, 36 square meters, Black Log, Purple Jade, 7 square meters, Gray Mosaic, Blue Rock_Plate, bedroom2, bedroom3, kitchen1)\n"
          ],
          "name": "stdout"
        }
      ]
    },
    {
      "cell_type": "code",
      "metadata": {
        "colab": {
          "base_uri": "https://localhost:8080/"
        },
        "id": "Fe7VJD3FHGzl",
        "outputId": "f447b513-5701-4e96-cc89-175d55f4042b"
      },
      "source": [
        "for sent in sen.sents:\r\n",
        "  print(sent)"
      ],
      "execution_count": 10,
      "outputs": [
        {
          "output_type": "stream",
          "text": [
            "The building contains three bedrooms, one washroom, two balconys, one livingroom, and one kitchen.\n",
            "In practice, bedroom1 has 16 squares in west.\n",
            "bedroom1 wall is Gray Coating as well as has Blue Mosaic floor.\n",
            "bedroom2 floor is White Rock_Plate, and wall is Green Quartz.\n",
            "bedroom2 has 10 squares in northwest.\n",
            "Additionally, bedroom3 has Earth_color Painted_Wood floor while wall is\n",
            "Black Wood_Grain. bedroom3 has 9 squares in north.\n",
            "washroom1 is in northwest with 5 square meters.\n",
            "floor of washroom1 is Granite and Wood_color as well as has Yellow Wood_Grain wall.\n",
            "balcony1 wall is Black Log while has Green Painted_Wood floor.\n",
            "balcony1 is in south with 7 square meters.\n",
            "In addition, balcony2 has Yellow Granite floor as well as wall is Wood_Veneer and Blue.\n",
            "balcony2 has 4 squares in northeast.\n",
            "livingroom1 covers 36 square meters located in center.\n",
            "livingroom1 has Black Log wall, and floor is Purple Jade.\n",
            "kitchen1 is in northeast with 7 square meters.\n",
            "kitchen1 floor is Gray Mosaic while wall is Blue Rock_Plate.\n",
            "livingroom1 is adjacent to bedroom1, bedroom2, bedroom3, kitchen1, balcony1, washroom1.\n",
            "bedroom2 and bedroom1 are connected.\n",
            "bedroom2 is next to washroom1.\n",
            "washroom1 and bedroom3 are connected.\n",
            "kitchen1 is next to balcony2.\n"
          ],
          "name": "stdout"
        }
      ]
    },
    {
      "cell_type": "code",
      "metadata": {
        "id": "yMQHEivE6HG4"
      },
      "source": [
        "imp=[]\r\n",
        "for sent in sen.sents:  \r\n",
        "  for token in sent:\r\n",
        "    if token.text=='next' or token.text=='connected':\r\n",
        "      imp.append(sent)\r\n",
        "      break"
      ],
      "execution_count": 11,
      "outputs": []
    },
    {
      "cell_type": "code",
      "metadata": {
        "colab": {
          "base_uri": "https://localhost:8080/"
        },
        "id": "EQM4u7cC7FBp",
        "outputId": "f93b1864-ec9c-4144-cd66-1d93147ad26c"
      },
      "source": [
        "imp"
      ],
      "execution_count": 35,
      "outputs": [
        {
          "output_type": "execute_result",
          "data": {
            "text/plain": [
              "[bedroom2 and bedroom1 are connected.,\n",
              " bedroom2 is next to washroom1.,\n",
              " washroom1 and bedroom3 are connected.,\n",
              " kitchen1 is next to balcony2.]"
            ]
          },
          "metadata": {
            "tags": []
          },
          "execution_count": 35
        }
      ]
    },
    {
      "cell_type": "code",
      "metadata": {
        "colab": {
          "base_uri": "https://localhost:8080/"
        },
        "id": "WArxBLWahvCr",
        "outputId": "fb3b8af6-f956-4e6e-d8ac-68de9c7961b5"
      },
      "source": [
        "relation={}\r\n",
        "for i in imp:\r\n",
        "  for j in i.noun_chunks:\r\n",
        "  #p=nlp(i.text)\r\n",
        "     print(j.text,end=\"->\")\r\n",
        "  print()\r\n",
        "  "
      ],
      "execution_count": 41,
      "outputs": [
        {
          "output_type": "stream",
          "text": [
            "bedroom2->bedroom1->\n",
            "bedroom2->\n",
            "washroom1->bedroom3->\n",
            "kitchen1->\n"
          ],
          "name": "stdout"
        }
      ]
    },
    {
      "cell_type": "code",
      "metadata": {
        "id": "_ij0wnJAoNPQ"
      },
      "source": [
        "import spacy Matcher\r\n",
        "from spacy.matcher import Matcher\r\n",
        "matcher=Matcher(nlp.vocab)\r\n",
        "pattern=[{'Text':kitchen1},{'Text':balcony2}]\r\n",
        "matcher.add\r\n",
        "\r\n",
        "\r\n"
      ],
      "execution_count": null,
      "outputs": []
    }
  ]
}